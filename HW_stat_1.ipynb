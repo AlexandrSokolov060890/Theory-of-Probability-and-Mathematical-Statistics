{
 "cells": [
  {
   "cell_type": "markdown",
   "metadata": {
    "id": "G3NS01m5ZFVK"
   },
   "source": [
    "**Урок 1. Случайные события. Условная вероятность. Формула Байеса. Независимые испытания**"
   ]
  },
  {
   "cell_type": "markdown",
   "metadata": {
    "id": "DvFKDR4_Zeeu"
   },
   "source": [
    "1. Из колоды в 52 карты извлекаются случайным образом 4 карты. a) Найти вероятность того, что все карты – крести. б) Найти вероятность, что среди 4-х карт окажется хотя бы один туз."
   ]
  },
  {
   "cell_type": "code",
   "execution_count": 1,
   "metadata": {
    "id": "r23JZ6wvZo0S"
   },
   "outputs": [],
   "source": [
    "import numpy as np\n",
    "from math import factorial "
   ]
  },
  {
   "cell_type": "code",
   "execution_count": 2,
   "metadata": {
    "colab": {
     "base_uri": "https://localhost:8080/"
    },
    "id": "IPf7o-uMZvdI",
    "outputId": "c7e6cf5c-25fa-41a9-de21-cde1398933a4"
   },
   "outputs": [
    {
     "name": "stdout",
     "output_type": "stream",
     "text": [
      "0.002641\n"
     ]
    }
   ],
   "source": [
    "'k = крести'\n",
    "'c = всего по картам'\n",
    "k = (factorial(13) / (factorial(4) * factorial(13 - 4)))\n",
    "c = (factorial(52) / (factorial(4) * factorial(52 - 4)))\n",
    "print(\"{:.6f}\".format(k / c))"
   ]
  },
  {
   "cell_type": "code",
   "execution_count": 3,
   "metadata": {
    "colab": {
     "base_uri": "https://localhost:8080/"
    },
    "id": "nf4BlPCOlNBc",
    "outputId": "b4a361f5-87cc-492b-dd3c-1facca7f0b26"
   },
   "outputs": [
    {
     "name": "stdout",
     "output_type": "stream",
     "text": [
      "0.25555084\n",
      "0.02499954\n",
      "0.00070921\n",
      "0.00000369\n",
      "0.28126327\n"
     ]
    }
   ],
   "source": [
    "'P - общая вероятность хотя бы одного туза'\n",
    "'P1 - 1 туз'\n",
    "'P2 - 2 туза'\n",
    "'P3 - 3 туза'\n",
    "'P4 - все 4 тузы'\n",
    "P1 = (factorial(4) / (factorial(1) * factorial(4 - 1))) * (factorial(48) / (factorial(3) * factorial(48 - 3))) / c\n",
    "P2 = (factorial(4) / (factorial(2) * factorial(4 - 2))) * (factorial(48) / (factorial(2) * factorial(48 - 2))) / c\n",
    "P3 = (factorial(4) / (factorial(3) * factorial(4 - 3))) * (factorial(48) / (factorial(1) * factorial(48 - 1))) / c\n",
    "P4 = factorial(4) / (factorial(4) * factorial(4 - 4)) / c\n",
    "P = P1 + P2 + P3 + P4\n",
    "print(\"{:.8f}\".format(P1))\n",
    "print(\"{:.8f}\".format(P2))\n",
    "print(\"{:.8f}\".format(P3))\n",
    "print(\"{:.8f}\".format(P4))\n",
    "print(\"{:.8f}\".format(P))"
   ]
  },
  {
   "cell_type": "markdown",
   "metadata": {
    "id": "6VowqXxlacqs"
   },
   "source": [
    "2. На входной двери подъезда установлен кодовый замок, содержащий десять кнопок с цифрами от 0 до 9. Код содержит три цифры, которые нужно нажать одновременно. Какова вероятность того, что человек, не знающий код, откроет дверь с первой попытки?"
   ]
  },
  {
   "cell_type": "code",
   "execution_count": 4,
   "metadata": {
    "colab": {
     "base_uri": "https://localhost:8080/"
    },
    "id": "JAmDXz41g1Uq",
    "outputId": "42c6729d-ce3a-449a-abed-69ab4a1c4c60"
   },
   "outputs": [
    {
     "name": "stdout",
     "output_type": "stream",
     "text": [
      "120\n"
     ]
    }
   ],
   "source": [
    "'Количество возможных комбинаций:'\n",
    "dom = int(factorial(10) / (factorial(3) * factorial(10 - 3)))\n",
    "print(dom)"
   ]
  },
  {
   "cell_type": "code",
   "execution_count": 5,
   "metadata": {
    "colab": {
     "base_uri": "https://localhost:8080/"
    },
    "id": "A5vVstquagkZ",
    "outputId": "78a35266-2ca2-4ad5-928d-4854ce494302"
   },
   "outputs": [
    {
     "name": "stdout",
     "output_type": "stream",
     "text": [
      "0.008333\n"
     ]
    }
   ],
   "source": [
    "'Шанс открыть с первой попытки:'\n",
    "print(\"{:.6f}\".format(1 / dom))"
   ]
  },
  {
   "cell_type": "markdown",
   "metadata": {
    "id": "EYBwNmR2ahpL"
   },
   "source": [
    "3. В ящике имеется 15 деталей, из которых 9 окрашены. Рабочий случайным образом извлекает 3 детали. Какова вероятность того, что все извлеченные детали окрашены?"
   ]
  },
  {
   "cell_type": "code",
   "execution_count": 6,
   "metadata": {
    "colab": {
     "base_uri": "https://localhost:8080/"
    },
    "id": "ikl-GxplalIC",
    "outputId": "d6c7fe3d-19ff-43dc-bdc8-3d242073159c"
   },
   "outputs": [
    {
     "name": "stdout",
     "output_type": "stream",
     "text": [
      "0.184615\n"
     ]
    }
   ],
   "source": [
    "'o = окрашенные'\n",
    "'d = из всех деталей'\n",
    "o = factorial(9) / (factorial(3)*factorial(9 - 3))\n",
    "d = factorial(15) / (factorial(3)*factorial(15 - 3))\n",
    "print(\"{:.6f}\".format(o / d))"
   ]
  },
  {
   "cell_type": "code",
   "execution_count": 7,
   "metadata": {
    "colab": {
     "base_uri": "https://localhost:8080/"
    },
    "id": "JfK41KrOrGnQ",
    "outputId": "4622f561-860f-40a7-9bc7-271f8056455c"
   },
   "outputs": [
    {
     "name": "stdout",
     "output_type": "stream",
     "text": [
      "0.184615\n"
     ]
    }
   ],
   "source": [
    "'Или можно так, что вероятность первой окрашенной 9/15, второй 8/14, а третьей 7/13. Тогда можно в таком виде:'\n",
    "print(\"{:.6f}\".format(9/15 * 8/14 * 7/13))\n",
    "## И результат окажется идентичным."
   ]
  },
  {
   "cell_type": "markdown",
   "metadata": {
    "id": "XNQRhEfDamKi"
   },
   "source": [
    "4. В лотерее 100 билетов. Из них 2 выигрышных. Какова вероятность того, что 2 приобретенных билета окажутся выигрышными?"
   ]
  },
  {
   "cell_type": "code",
   "execution_count": 8,
   "metadata": {
    "colab": {
     "base_uri": "https://localhost:8080/"
    },
    "id": "t8zYFpmDaorN",
    "outputId": "da180dc0-83b1-4d72-8103-844762256d34"
   },
   "outputs": [
    {
     "name": "stdout",
     "output_type": "stream",
     "text": [
      "0.000202\n"
     ]
    }
   ],
   "source": [
    "'v = выигрышные'\n",
    "'b = всего из билетов'\n",
    "v = (factorial(2) / (factorial(2) * factorial(2 - 2)))\n",
    "b = (factorial(100) / (factorial(2) * factorial(100 - 2)))\n",
    "print(\"{:.6f}\".format(v / b))"
   ]
  },
  {
   "cell_type": "code",
   "execution_count": 9,
   "metadata": {
    "colab": {
     "base_uri": "https://localhost:8080/"
    },
    "id": "iQCSSyylr1YM",
    "outputId": "de43db55-003b-40ea-d0ae-f5961aba48e9"
   },
   "outputs": [
    {
     "name": "stdout",
     "output_type": "stream",
     "text": [
      "0.000202\n"
     ]
    }
   ],
   "source": [
    "print(\"{:.6f}\".format(2/100 * 1/99))"
   ]
  },
  {
   "cell_type": "markdown",
   "metadata": {
    "id": "8WJ-bfilapXo"
   },
   "source": [
    "5. На соревновании по биатлону один из трех спортсменов стреляет и попадает в мишень. Вероятность попадания для первого спортсмена равна 0.9, для второго — 0.8, для третьего — 0.6. Найти вероятность того, что выстрел произведен: a). первым спортсменом б). вторым спортсменом в). третьим спортсменом."
   ]
  },
  {
   "cell_type": "markdown",
   "metadata": {
    "id": "-JoeRVZwcxW2"
   },
   "source": [
    "Прежде чем узнали результат выстрела, мы располагали только априорной вероятностью того, что выстрел был произведен, и она равнялась 1/3 — если учесть, что у всех спортсменов были равные возможности выстрелить.\n",
    "\n",
    "Зная результат выстрела, мы можем заново оценить вероятности для каждого спортсмена — ведь точность у них разная. Эти вероятности будут апостериорными, так как они получены после поступления информации о том, что выстрел был удачным."
   ]
  },
  {
   "cell_type": "markdown",
   "metadata": {
    "id": "sZ3jzvjzbaEK"
   },
   "source": [
    "P(A|B1)=0.9 \n",
    "\n",
    "P(A|B2)=0.8 \n",
    "\n",
    "P(A|B3)=0.6\n",
    "\n",
    "P(Bn|A)=P(Bn) * P(A|Bn) / P(A)"
   ]
  },
  {
   "cell_type": "code",
   "execution_count": 10,
   "metadata": {
    "id": "kgWUQO1btDH-"
   },
   "outputs": [],
   "source": [
    "'Вероятность P(A) назовём кратко: A, так как она является одинаковым знаменателем для каждого из вычислений.'\n",
    "A = ((1/3 * 0.9) + (1/3 * 0.8) + (1/3 * 0.6))"
   ]
  },
  {
   "cell_type": "code",
   "execution_count": 11,
   "metadata": {
    "colab": {
     "base_uri": "https://localhost:8080/"
    },
    "id": "Lkb5bsuqasn4",
    "outputId": "393430ab-fa9e-4602-a75a-8bc563cd8087"
   },
   "outputs": [
    {
     "name": "stdout",
     "output_type": "stream",
     "text": [
      "0.391304\n"
     ]
    }
   ],
   "source": [
    "'B1'\n",
    "print(\"{:.6f}\".format((1/3 * 0.9) / A))"
   ]
  },
  {
   "cell_type": "code",
   "execution_count": 12,
   "metadata": {
    "colab": {
     "base_uri": "https://localhost:8080/"
    },
    "id": "th--MY3DbHbA",
    "outputId": "a452a396-0896-4043-85cb-3e36dd98ab68"
   },
   "outputs": [
    {
     "name": "stdout",
     "output_type": "stream",
     "text": [
      "0.347826\n"
     ]
    }
   ],
   "source": [
    "'B2'\n",
    "print(\"{:.6f}\".format((1/3 * 0.8) / A))"
   ]
  },
  {
   "cell_type": "code",
   "execution_count": 13,
   "metadata": {
    "colab": {
     "base_uri": "https://localhost:8080/"
    },
    "id": "GNpj2rygceZs",
    "outputId": "15b7c95b-0b54-4f9f-ef3d-eee610b43703"
   },
   "outputs": [
    {
     "name": "stdout",
     "output_type": "stream",
     "text": [
      "0.260870\n"
     ]
    }
   ],
   "source": [
    "'B3'\n",
    "print(\"{:.6f}\".format((1/3 * 0.6) / A))"
   ]
  }
 ],
 "metadata": {
  "colab": {
   "collapsed_sections": [],
   "name": "HW_stat_1.ipynb",
   "provenance": []
  },
  "kernelspec": {
   "display_name": "Python 3",
   "language": "python",
   "name": "python3"
  },
  "language_info": {
   "codemirror_mode": {
    "name": "ipython",
    "version": 3
   },
   "file_extension": ".py",
   "mimetype": "text/x-python",
   "name": "python",
   "nbconvert_exporter": "python",
   "pygments_lexer": "ipython3",
   "version": "3.8.8"
  }
 },
 "nbformat": 4,
 "nbformat_minor": 1
}
